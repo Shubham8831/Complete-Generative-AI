{
 "cells": [
  {
   "cell_type": "markdown",
   "id": "a3a2634f",
   "metadata": {},
   "source": [
    "#### Key setup"
   ]
  },
  {
   "cell_type": "code",
   "execution_count": 2,
   "id": "afe38000",
   "metadata": {},
   "outputs": [],
   "source": [
    "import os\n",
    "from dotenv import load_dotenv\n",
    "load_dotenv()\n",
    "api_key = os.getenv(\"GROQ_API_KEY\")"
   ]
  },
  {
   "cell_type": "markdown",
   "id": "d6d5ea5b",
   "metadata": {},
   "source": [
    "#### Imports"
   ]
  },
  {
   "cell_type": "code",
   "execution_count": 3,
   "id": "aae75c79",
   "metadata": {},
   "outputs": [],
   "source": [
    "from langchain_groq import ChatGroq\n",
    "import requests\n",
    "from langchain_core.tools import tool\n",
    "from langchain_community.tools import DuckDuckGoSearchRun"
   ]
  },
  {
   "cell_type": "markdown",
   "id": "52a1e8e1",
   "metadata": {},
   "source": [
    "#### Search Tool"
   ]
  },
  {
   "cell_type": "code",
   "execution_count": 4,
   "id": "c7d42ae4",
   "metadata": {},
   "outputs": [
    {
     "name": "stdout",
     "output_type": "stream",
     "text": [
      "India News | Latest India News | Read latest and breaking news from India. Today's top India news headlines, news on Indian politics, elections, government, business, technology, and Bollywood. Headlines today: Get news headlines from India and around the world. Today's breaking news on politics, sports, entertainment, business, life style and many more on Times of India Read all India news and breaking news today from India on politics, business, entertainment, technology, sports, lifestyle and more at CNBC TV18. Join Us. ... India enters top 100 in global SDG rankings for first time. Jun 25, 2025 7:26 PM 3 Min Read. Entertainment. 50 Years of Emergency: Aandhi to Nasbandi - the films that were silenced and ... Stay informed with breaking news and latest news on politics, business, entertainment sports, science, technology along with news updates from around the world. Reuters.com is your online source for the latest India news stories and current events, ensuring our readers up to date with any breaking news developments\n"
     ]
    }
   ],
   "source": [
    "search_tool = DuckDuckGoSearchRun()\n",
    "result = search_tool.invoke(\"top news in india today?\")\n",
    "print(result)"
   ]
  },
  {
   "cell_type": "markdown",
   "id": "fa8272e9",
   "metadata": {},
   "source": [
    "#### Making a additional tool"
   ]
  },
  {
   "cell_type": "code",
   "execution_count": 5,
   "id": "b024cf2f",
   "metadata": {},
   "outputs": [],
   "source": [
    "@tool\n",
    "def get_weather_data(city: str) -> str:\n",
    "    \"\"\"This fuction fetches the current weather data from a given city\"\"\"\n",
    "    url = f\"http://api.weatherstack.com/current?access_key=6042591fc1c28b3c30ec4e2aeac3fe79&query={city}\"\n",
    "    response = requests.get(url)\n",
    "    return response.json()"
   ]
  },
  {
   "cell_type": "markdown",
   "id": "7935d7b6",
   "metadata": {},
   "source": [
    "#### LLM "
   ]
  },
  {
   "cell_type": "code",
   "execution_count": 6,
   "id": "e40526e2",
   "metadata": {},
   "outputs": [
    {
     "data": {
      "text/plain": [
       "AIMessage(content='Hello. How can I assist you today?', additional_kwargs={}, response_metadata={'token_usage': {'completion_tokens': 10, 'prompt_tokens': 36, 'total_tokens': 46, 'completion_time': 0.036363636, 'prompt_time': 0.00153465, 'queue_time': 0.055559049, 'total_time': 0.037898286}, 'model_name': 'llama-3.3-70b-versatile', 'system_fingerprint': 'fp_6507bcfb6f', 'finish_reason': 'stop', 'logprobs': None}, id='run--94c3da09-4789-442d-9a44-4bef4d153866-0', usage_metadata={'input_tokens': 36, 'output_tokens': 10, 'total_tokens': 46})"
      ]
     },
     "execution_count": 6,
     "metadata": {},
     "output_type": "execute_result"
    }
   ],
   "source": [
    "\n",
    "model = ChatGroq(model=\"llama-3.3-70b-versatile\", api_key=api_key)\n",
    "model.invoke(\"hello\")"
   ]
  },
  {
   "cell_type": "markdown",
   "id": "e97fb30b",
   "metadata": {},
   "source": [
    "#### Agent imports"
   ]
  },
  {
   "cell_type": "code",
   "execution_count": 7,
   "id": "8291a4ba",
   "metadata": {},
   "outputs": [],
   "source": [
    "from langchain.agents import create_react_agent, AgentExecutor\n",
    "from langchain import hub # hub has pre made prompts "
   ]
  },
  {
   "cell_type": "markdown",
   "id": "b3a2c34b",
   "metadata": {},
   "source": [
    "#### Pulling Pre-made Prompt from HUB"
   ]
  },
  {
   "cell_type": "code",
   "execution_count": 8,
   "id": "e23e5726",
   "metadata": {},
   "outputs": [],
   "source": [
    "#pull ReAct prompt from langchain hub\n",
    "prompt = hub.pull(\"hwchase17/react\") # pull the standard ReAct agent prompt ( reasoning + action)"
   ]
  },
  {
   "cell_type": "markdown",
   "id": "299bcd3c",
   "metadata": {},
   "source": [
    "#### Create ReAct agent manually with the pulled prompt"
   ]
  },
  {
   "cell_type": "code",
   "execution_count": null,
   "id": "c8aae29b",
   "metadata": {},
   "outputs": [],
   "source": [
    "agent = create_react_agent(\n",
    "    llm = model, \n",
    "    tools=[search_tool, get_weather_data], # which tools agent has access to\n",
    "    prompt=prompt\n",
    ")"
   ]
  },
  {
   "cell_type": "markdown",
   "id": "8bcde816",
   "metadata": {},
   "source": [
    "###### Agent does the planning and reasoning and agent executer does the work on ground\n",
    "#### wrap agent with Agent Executer"
   ]
  },
  {
   "cell_type": "code",
   "execution_count": null,
   "id": "abb82b66",
   "metadata": {},
   "outputs": [],
   "source": [
    "agent_executer = AgentExecutor(\n",
    "    agent=agent,\n",
    "    tools=[search_tool, get_weather_data],\n",
    "    verbose=True # we will see what agent thinks \n",
    ")"
   ]
  },
  {
   "cell_type": "markdown",
   "id": "2411a29e",
   "metadata": {},
   "source": [
    "#### Invoke the Agent Executor"
   ]
  },
  {
   "cell_type": "code",
   "execution_count": 13,
   "id": "b5b09fc5",
   "metadata": {},
   "outputs": [
    {
     "name": "stdout",
     "output_type": "stream",
     "text": [
      "\n",
      "\n",
      "\u001b[1m> Entering new AgentExecutor chain...\u001b[0m\n",
      "\u001b[32;1m\u001b[1;3mThought: To find the capital of Uttar Pradesh, I can use my general knowledge or search for it. Since I'm sure about the capital, I won't need to search for it. The capital of Uttar Pradesh is Lucknow. Next, I need to find the current weather conditions in Lucknow, for which I'll have to search online.\n",
      "\n",
      "Action: duckduckgo_search\n",
      "Action Input: current weather in Lucknow\n",
      "\u001b[0m\u001b[36;1m\u001b[1;3mLucknow, India - Current temperature and weather conditions. Detailed hourly weather forecast for today - including weather conditions, temperature, pressure, humidity, precipitation, dewpoint, wind, visibility, and UV index data. Want to know what the weather is now? Check out our current live radar and weather forecasts for Lucknow, Uttar Pradesh, IN to help plan your day Latest weather forecast for Lucknow for today's, hourly weather forecast, including today's temperatures in Lucknow, wind, rain and more. Today Weather in Lucknow: Check Current Lucknow weather, temperature and air quality updates along with today, tomorrow and weekly weather forecast for rain at India Today The Long-range 12 day forecast also includes detail for Lucknow weather today. Live weather reports from Lucknow weather stations and weather warnings that include risk of thunder, high UV index and forecast gales. See the links below the 12-day Lucknow weather forecast table for other cities and towns nearby along with weather conditions for local outdoor activities. Lucknow is 125 m above ...\u001b[0m\u001b[32;1m\u001b[1;3mIt seems like the observation provided a lot of information about the weather forecast in Lucknow, but not the current weather conditions. \n",
      "\n",
      "Action: duckduckgo_search\n",
      "Action Input: Lucknow weather today\n",
      "\u001b[0m\u001b[36;1m\u001b[1;3mWeather In Lucknow The minimum temperature in Lucknow today is likely to hover around 30 degrees Celsius, while the maximum temperature might reach 37 degrees Celsius. The mercury level is expected to hover around 35 degrees Celsius throughout the day, with the wind speed around 7.04. The temperature in Lucknow today in the early morning is 32 ° C.. If you take into account factors such as wind, humidity and other weather conditions, the temperatures can feel like 36 ° C.. The chance of rain in Lucknow in the morning is 68%, and the wind will blow at 20 km/h. In Lucknow, for the rest of Monday, early morning showers are expected, with the rain clearing up by mid-morning. Minimal precipitation is forecasted for today. The lowest predicted temperature is a temperate 27°C. Sunrise was at 5:12 am and sunset will be at 7:04 pm; the daylight will last for 13h and 52min. The Long-range 12 day forecast also includes detail for Lucknow weather today. Live weather reports from Lucknow weather stations and weather warnings that include risk of thunder, high UV index and forecast gales. See the links below the 12-day Lucknow weather forecast table for other cities and towns nearby along with weather conditions for ... Get the current weather and forecast for Lucknow, including hourly, weekly and monthly reports. See the temperature, wind speed, heat index and chance of rain for today and the next seven days.\u001b[0m\u001b[32;1m\u001b[1;3mThought: I now know the final answer\n",
      "Final Answer: The capital of Uttar Pradesh is Lucknow, and the current weather condition in Lucknow is a minimum temperature of 30 degrees Celsius and a maximum temperature of 37 degrees Celsius, with a 68% chance of rain in the morning and wind speed around 7.04 km/h, with the temperature feeling like 36 ° C due to factors such as wind, humidity, and other weather conditions.\u001b[0m\n",
      "\n",
      "\u001b[1m> Finished chain.\u001b[0m\n",
      "{'input': \"Find Capital of Uttar Pradesh, then find it's current weather condition\", 'output': 'The capital of Uttar Pradesh is Lucknow, and the current weather condition in Lucknow is a minimum temperature of 30 degrees Celsius and a maximum temperature of 37 degrees Celsius, with a 68% chance of rain in the morning and wind speed around 7.04 km/h, with the temperature feeling like 36 ° C due to factors such as wind, humidity, and other weather conditions.'}\n"
     ]
    }
   ],
   "source": [
    "response = agent_executer.invoke({\"input\":\"Find Capital of Uttar Pradesh, then find it's current weather condition\"})\n",
    "print(response)"
   ]
  },
  {
   "cell_type": "code",
   "execution_count": 14,
   "id": "2a4095f8",
   "metadata": {},
   "outputs": [
    {
     "name": "stdout",
     "output_type": "stream",
     "text": [
      "The capital of Uttar Pradesh is Lucknow, and the current weather condition in Lucknow is a minimum temperature of 30 degrees Celsius and a maximum temperature of 37 degrees Celsius, with a 68% chance of rain in the morning and wind speed around 7.04 km/h, with the temperature feeling like 36 ° C due to factors such as wind, humidity, and other weather conditions.\n"
     ]
    }
   ],
   "source": [
    "print(response[\"output\"])"
   ]
  }
 ],
 "metadata": {
  "kernelspec": {
   "display_name": "venv",
   "language": "python",
   "name": "python3"
  },
  "language_info": {
   "codemirror_mode": {
    "name": "ipython",
    "version": 3
   },
   "file_extension": ".py",
   "mimetype": "text/x-python",
   "name": "python",
   "nbconvert_exporter": "python",
   "pygments_lexer": "ipython3",
   "version": "3.10.9"
  }
 },
 "nbformat": 4,
 "nbformat_minor": 5
}
