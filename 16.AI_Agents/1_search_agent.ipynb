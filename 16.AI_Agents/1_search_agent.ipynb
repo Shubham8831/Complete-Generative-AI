{
 "cells": [
  {
   "cell_type": "markdown",
   "id": "a3a2634f",
   "metadata": {},
   "source": [
    "#### Key setup"
   ]
  },
  {
   "cell_type": "code",
   "execution_count": 2,
   "id": "afe38000",
   "metadata": {},
   "outputs": [],
   "source": [
    "import os\n",
    "from dotenv import load_dotenv\n",
    "load_dotenv()\n",
    "api_key = os.getenv(\"GROQ_API_KEY\")"
   ]
  },
  {
   "cell_type": "markdown",
   "id": "d6d5ea5b",
   "metadata": {},
   "source": [
    "#### Imports"
   ]
  },
  {
   "cell_type": "code",
   "execution_count": 3,
   "id": "aae75c79",
   "metadata": {},
   "outputs": [],
   "source": [
    "from langchain_groq import ChatGroq\n",
    "import requests\n",
    "from langchain_core.tools import tool\n",
    "from langchain_community.tools import DuckDuckGoSearchRun"
   ]
  },
  {
   "cell_type": "markdown",
   "id": "52a1e8e1",
   "metadata": {},
   "source": [
    "#### Search Tool"
   ]
  },
  {
   "cell_type": "code",
   "execution_count": 4,
   "id": "c7d42ae4",
   "metadata": {},
   "outputs": [
    {
     "name": "stdout",
     "output_type": "stream",
     "text": [
      "India News | Latest India News | Read latest and breaking news from India. Today's top India news headlines, news on Indian politics, elections, government, business, technology, and Bollywood. Headlines today: Get news headlines from India and around the world. Today's breaking news on politics, sports, entertainment, business, life style and many more on Times of India Read all India news and breaking news today from India on politics, business, entertainment, technology, sports, lifestyle and more at CNBC TV18. Join Us. ... India enters top 100 in global SDG rankings for first time. Jun 25, 2025 7:26 PM 3 Min Read. Entertainment. 50 Years of Emergency: Aandhi to Nasbandi - the films that were silenced and ... Stay informed with breaking news and latest news on politics, business, entertainment sports, science, technology along with news updates from around the world. Reuters.com is your online source for the latest India news stories and current events, ensuring our readers up to date with any breaking news developments\n"
     ]
    }
   ],
   "source": [
    "search_tool = DuckDuckGoSearchRun()\n",
    "result = search_tool.invoke(\"top news in india today?\")\n",
    "print(result)"
   ]
  },
  {
   "cell_type": "markdown",
   "id": "fa8272e9",
   "metadata": {},
   "source": [
    "#### Making a additional tool"
   ]
  },
  {
   "cell_type": "code",
   "execution_count": 5,
   "id": "b024cf2f",
   "metadata": {},
   "outputs": [],
   "source": [
    "@tool\n",
    "def get_weather_data(city: str) -> str:\n",
    "    \"\"\"This fuction fetches the current weather data from a given city\"\"\"\n",
    "    url = f\"http://api.weatherstack.com/current?access_key=6042591fc1c28b3c30ec4e2aeac3fe79&query={city}\"\n",
    "    response = requests.get(url)\n",
    "    return response.json()"
   ]
  },
  {
   "cell_type": "markdown",
   "id": "7935d7b6",
   "metadata": {},
   "source": [
    "#### LLM "
   ]
  },
  {
   "cell_type": "code",
   "execution_count": 6,
   "id": "e40526e2",
   "metadata": {},
   "outputs": [
    {
     "data": {
      "text/plain": [
       "AIMessage(content='Hello. How can I assist you today?', additional_kwargs={}, response_metadata={'token_usage': {'completion_tokens': 10, 'prompt_tokens': 36, 'total_tokens': 46, 'completion_time': 0.036363636, 'prompt_time': 0.00153465, 'queue_time': 0.055559049, 'total_time': 0.037898286}, 'model_name': 'llama-3.3-70b-versatile', 'system_fingerprint': 'fp_6507bcfb6f', 'finish_reason': 'stop', 'logprobs': None}, id='run--94c3da09-4789-442d-9a44-4bef4d153866-0', usage_metadata={'input_tokens': 36, 'output_tokens': 10, 'total_tokens': 46})"
      ]
     },
     "execution_count": 6,
     "metadata": {},
     "output_type": "execute_result"
    }
   ],
   "source": [
    "\n",
    "model = ChatGroq(model=\"llama-3.3-70b-versatile\", api_key=api_key)\n",
    "model.invoke(\"hello\")"
   ]
  },
  {
   "cell_type": "markdown",
   "id": "e97fb30b",
   "metadata": {},
   "source": [
    "#### Agent imports"
   ]
  },
  {
   "cell_type": "code",
   "execution_count": 7,
   "id": "8291a4ba",
   "metadata": {},
   "outputs": [],
   "source": [
    "from langchain.agents import create_react_agent, AgentExecutor\n",
    "from langchain import hub # hub has pre made prompts "
   ]
  },
  {
   "cell_type": "markdown",
   "id": "b3a2c34b",
   "metadata": {},
   "source": [
    "#### Pulling Pre-made Prompt from HUB"
   ]
  },
  {
   "cell_type": "code",
   "execution_count": 8,
   "id": "e23e5726",
   "metadata": {},
   "outputs": [],
   "source": [
    "#pull ReAct prompt from langchain hub\n",
    "prompt = hub.pull(\"hwchase17/react\") # pull the standard ReAct agent prompt ( reasoning + action)"
   ]
  },
  {
   "cell_type": "markdown",
   "id": "299bcd3c",
   "metadata": {},
   "source": [
    "#### Create ReAct agent manually with the pulled prompt"
   ]
  },
  {
   "cell_type": "code",
   "execution_count": null,
   "id": "c8aae29b",
   "metadata": {},
   "outputs": [],
   "source": [
    "agent = create_react_agent(\n",
    "    llm = model, \n",
    "    tools=[search_tool, get_weather_data], # which tools agent has access to\n",
    "    prompt=prompt\n",
    ")"
   ]
  },
  {
   "cell_type": "markdown",
   "id": "8bcde816",
   "metadata": {},
   "source": [
    "###### Agent does the planning and reasoning and agent executer does the work on ground\n",
    "#### wrap agent with Agent Executer"
   ]
  },
  {
   "cell_type": "code",
   "execution_count": null,
   "id": "abb82b66",
   "metadata": {},
   "outputs": [],
   "source": [
    "agent_executer = AgentExecutor(\n",
    "    agent=agent,\n",
    "    tools=[search_tool, get_weather_data],\n",
    "    verbose=True # we will see what agent thinks \n",
    ")"
   ]
  },
  {
   "cell_type": "markdown",
   "id": "2411a29e",
   "metadata": {},
   "source": [
    "#### Invoke the Agent Executor"
   ]
  },
  {
   "cell_type": "code",
   "execution_count": null,
   "id": "b5b09fc5",
   "metadata": {},
   "outputs": [
    {
     "name": "stdout",
     "output_type": "stream",
     "text": [
      "\n",
      "\n",
      "\u001b[1m> Entering new AgentExecutor chain...\u001b[0m\n",
      "\u001b[32;1m\u001b[1;3mTo find ways to reach Varanasi from Delhi, I should first consider the common modes of transportation available in India, such as trains, flights, and buses. However, to provide more specific and up-to-date information, I should search for the latest options and schedules.\n",
      "\n",
      "Action: duckduckgo_search\n",
      "Action Input: Varanasi to Delhi transport options\n",
      "\n",
      "(I'll wait for the search results to proceed further)\u001b[0m\u001b[36;1m\u001b[1;3mVaranasi to Delhi Bus tickets Are you looking for a convenient and safe mode of transportation from Varanasi to Delhi? Look no further as zingbus offers a comfortable commute to Delhi. The first bus starts from Varanasi at 3:45 PM. The minimum bus ticket booking fare is ₹ 600 and goes up to ₹ 1237 depending on the bus type and timings. Varanasi to Delhi bus booking starts @ ₹1049 - Get best ticket price on sleeper, volvo, private, government bus ticket booking from Varanasi to Delhi. Use Coupon Code IDBIRIDE and get discount upto ₹500 and earn reward points on Varanasi to Delhi bus ticket booking with Adani OneApp. Compare train, bus, and flight for Varanasi to Delhi. Omio recommends booking the flight as it is the most popular option from Varanasi to Delhi among Omio's users. If you are prioritising price take the bus with prices starting from €12. For those with little time consider booking a flight which can get you there in 1h 38m. Shortest Rail Distance: 755 km. 101 Long-Distance Trains. 2 TrainSet Trains. 83 LHB Trains. 20 Daily Trains. 13 Rajdhani Trains. 7 Garib Rath Trains. 28 Mail/Express Trains. 2 AC Express Trains. 1 AC SuperFast Trains. 5 Sampark Kranti Trains. 3 Duronto Trains. 36 SuperFast Trains. 3 Humsafar Trains. 2 Vande Bharat Trains. 1 Special Fare Trains. India Rail Info is a Busy Junction for Travellers ... Book Varanasi Delhi Volvo AC Bus Tickets online booking and get upto 500 Rs OFF at MakeMytrip.com. Volvo AC bus available for Varanasi to Delhi Travel with Seat Availability & Fares. ... The Pizzeria Vatika Cafe in Assi Ghat is known for its Chinese and Italian speciality dishes while options such as Aum Cafe, Open Hand, Ayyar's Cafe, and ...\u001b[0m\u001b[32;1m\u001b[1;3mBased on the search results, it seems that there are several options to reach Varanasi from Delhi, including buses, trains, and flights. \n",
      "\n",
      "Action: duckduckgo_search\n",
      "Action Input: flight train bus from Delhi to Varanasi\n",
      "\n",
      "(I'll wait for the search results to get more specific information about each mode of transportation)\n",
      "\u001b[0m\u001b[36;1m\u001b[1;3mTravel Information Compare bus, flight, and train for Delhi to Varanasi. Omio recommends booking the bus as it is the most popular option from Delhi to Varanasi among Omio's users. If you are prioritising price take the bus with prices starting from €9. For those with little time consider booking a flight which can get you there in 2h 26m. Delhi to Varanasi bus booking starts @ ₹597 - Get best ticket price on sleeper, volvo, private, government bus ticket booking from Delhi to Varanasi. Use Coupon Code IDBIRIDE and get discount upto ₹500 and earn reward points on Delhi to Varanasi bus ticket booking with Adani OneApp. The minimum duration of Khajuraho Travels from Delhi to Varanasi bus is approximately 13:46:00. However, the duration of the journey may vary due to traffic, weather conditions or unavoidable circumstances. The first bus of Khajuraho Travels from Delhi to Varanasi leaves at 18:16, while the last bus is at 20:16. Delhi to Varanasi Bus Online Ticket Fare. For instance, an AC bus ticket will be higher than a non-AC bus, and a sleeper bus with modern amenities is also expensive.So, when you are booking the Delhi to Varanasi bus tickets, make sure that you cross-check the prices and compare them to find out the best deal for your trip. You can book both a bus from Varanasi and a bus to Varanasi based on your travel itinerary. The Varanasi bus ticket price may vary based on the facilities you want, the operator you choose, and the boarding point. The Uttar Pradesh State Road Transport Corporation or UPSRTC is the state-owned carrier you can book your Varanasi bus with from ...\u001b[0m\u001b[32;1m\u001b[1;3mBased on the search results, it seems that there are several options to reach Varanasi from Delhi, including buses, trains, and flights. \n",
      "\n",
      "Action: duckduckgo_search\n",
      "Action Input: Delhi to Varanasi flight train bus price\n",
      "\u001b[0m\u001b[36;1m\u001b[1;3mCompare bus, flight, and train for Delhi to Varanasi. Omio recommends booking the bus as it is the most popular option from Delhi to Varanasi among Omio's users. If you are prioritising price take the bus with prices starting from €9. For those with little time consider booking a flight which can get you there in 2h 26m. Delhi to Varanasi bus booking starts @ ₹597 - Get best ticket price on sleeper, volvo, private, government bus ticket booking from Delhi to Varanasi. ... prices for a Delhi to Varanasi bus ticket typically fall between ₹600 and ₹2000, depending on the type of bus service and amenities offered. ... Flight Booking Hotels Trains Bus Cab ... Book Delhi Varanasi AC Bus Tickets online booking and get upto 500 Rs OFF at MakeMytrip.com. AC bus available for Delhi to Varanasi Travel with Seat Availability & Fares. Flights. Hotels. Homestays. Holiday Packages. Trains. Buses. Cabs. Forex. ... the Delhi bus ticket price can vary based on factors like the dates you choose for travel, ... Delhi to Varanasi Bus Online Ticket Fare. For instance, an AC bus ticket will be higher than a non-AC bus, and a sleeper bus with modern amenities is also expensive.So, when you are booking the Delhi to Varanasi bus tickets, make sure that you cross-check the prices and compare them to find out the best deal for your trip. The bus ticket fare of Khajuraho Travels from Delhi to Varanasi are affordable, catering to your budget preferences. The starting bus ticket price for Khajuraho Travels Delhi to Varanasi is INR 896. Whether you're planning a solo trip or travelling with family or friends, Khajuraho Travels ensures a safe and enjoyable ride.\u001b[0m\u001b[32;1m\u001b[1;3mBased on the search results, it seems that there are several options to reach Varanasi from Delhi, including buses, trains, and flights. The prices for each mode of transportation vary, with buses being the most affordable option, starting from ₹597, and flights being the fastest option, taking around 2h 26m. \n",
      "\n",
      "Here are 3 ways to reach Varanasi from Delhi:\n",
      "\n",
      "1. By Bus: Bus tickets from Delhi to Varanasi start at ₹597, and the journey takes around 13-14 hours. Several bus operators, such as Khajuraho Travels, offer affordable fares and comfortable rides.\n",
      "2. By Flight: Flights from Delhi to Varanasi are the fastest way to reach Varanasi, taking around 2h 26m. However, the prices for flights vary depending on the airline and time of booking.\n",
      "3. By Train: Trains are another option to reach Varanasi from Delhi, with over 100 long-distance trains available. The journey takes around 12-14 hours, and the prices vary depending on the type of train and class of travel.\n",
      "\n",
      "Final Answer: There are three ways to reach Varanasi from Delhi: by bus, which is the most affordable option and takes around 13-14 hours; by flight, which is the fastest option and takes around 2h 26m; and by train, which takes around 12-14 hours and offers various classes of travel.\u001b[0m\n",
      "\n",
      "\u001b[1m> Finished chain.\u001b[0m\n",
      "{'input': '3 ways to reach Varanasi from Delhi', 'output': 'There are three ways to reach Varanasi from Delhi: by bus, which is the most affordable option and takes around 13-14 hours; by flight, which is the fastest option and takes around 2h 26m; and by train, which takes around 12-14 hours and offers various classes of travel.'}\n"
     ]
    }
   ],
   "source": [
    "response = agent_executer.invoke({\"input\":\"Find Capital of Uttar Pradesh, then find it's current weather condition\"})\n",
    "print(response)"
   ]
  },
  {
   "cell_type": "code",
   "execution_count": 12,
   "id": "2a4095f8",
   "metadata": {},
   "outputs": [
    {
     "name": "stdout",
     "output_type": "stream",
     "text": [
      "There are three ways to reach Varanasi from Delhi: by bus, which is the most affordable option and takes around 13-14 hours; by flight, which is the fastest option and takes around 2h 26m; and by train, which takes around 12-14 hours and offers various classes of travel.\n"
     ]
    }
   ],
   "source": [
    "print(response[\"output\"])"
   ]
  }
 ],
 "metadata": {
  "kernelspec": {
   "display_name": "venv",
   "language": "python",
   "name": "python3"
  },
  "language_info": {
   "codemirror_mode": {
    "name": "ipython",
    "version": 3
   },
   "file_extension": ".py",
   "mimetype": "text/x-python",
   "name": "python",
   "nbconvert_exporter": "python",
   "pygments_lexer": "ipython3",
   "version": "3.10.9"
  }
 },
 "nbformat": 4,
 "nbformat_minor": 5
}
