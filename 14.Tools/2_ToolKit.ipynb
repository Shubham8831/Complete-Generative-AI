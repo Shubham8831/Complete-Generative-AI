{
 "cells": [
  {
   "cell_type": "markdown",
   "id": "26fc36a8",
   "metadata": {},
   "source": [
    "### Toolkit"
   ]
  },
  {
   "cell_type": "code",
   "execution_count": 1,
   "id": "a7e61125",
   "metadata": {},
   "outputs": [],
   "source": [
    "from langchain_core.tools import tool\n",
    "\n",
    "#custom tool\n",
    "@tool\n",
    "def add(a:int, b:int)->int:\n",
    "    \"\"\"add two numbers\"\"\"\n",
    "    return a+b\n",
    "\n",
    "@tool\n",
    "def multiply(a:int, b:int) ->int:\n",
    "    \"\"\"multiply two numbers\"\"\"\n",
    "    return a*b"
   ]
  },
  {
   "cell_type": "code",
   "execution_count": null,
   "id": "70a908e6",
   "metadata": {},
   "outputs": [],
   "source": [
    "# this will create a tool kit\n",
    "class MathToolkit:\n",
    "    def get_tools(self):\n",
    "        return [add,multiply]"
   ]
  },
  {
   "cell_type": "code",
   "execution_count": 5,
   "id": "193885d4",
   "metadata": {},
   "outputs": [
    {
     "name": "stdout",
     "output_type": "stream",
     "text": [
      "add => add two numbers\n",
      "multiply => multiply two numbers\n"
     ]
    }
   ],
   "source": [
    "toolkit = MathToolkit()\n",
    "tools = toolkit.get_tools()\n",
    "\n",
    "for tool in tools:\n",
    "    print(tool.name, \"=>\", tool.description)"
   ]
  },
  {
   "cell_type": "code",
   "execution_count": 4,
   "id": "20072f4f",
   "metadata": {},
   "outputs": [
    {
     "name": "stdout",
     "output_type": "stream",
     "text": [
      "[StructuredTool(name='add', description='add two numbers', args_schema=<class 'langchain_core.utils.pydantic.add'>, func=<function add at 0x0000022BDC90E9E0>), StructuredTool(name='multiply', description='multiply two numbers', args_schema=<class 'langchain_core.utils.pydantic.multiply'>, func=<function multiply at 0x0000022BDD9BAA70>)]\n"
     ]
    }
   ],
   "source": [
    "print(tools)"
   ]
  }
 ],
 "metadata": {
  "kernelspec": {
   "display_name": "venv",
   "language": "python",
   "name": "python3"
  },
  "language_info": {
   "codemirror_mode": {
    "name": "ipython",
    "version": 3
   },
   "file_extension": ".py",
   "mimetype": "text/x-python",
   "name": "python",
   "nbconvert_exporter": "python",
   "pygments_lexer": "ipython3",
   "version": "3.10.9"
  }
 },
 "nbformat": 4,
 "nbformat_minor": 5
}
