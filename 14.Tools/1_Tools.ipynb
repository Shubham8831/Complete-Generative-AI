{
 "cells": [
  {
   "cell_type": "markdown",
   "id": "4c0a3a97",
   "metadata": {},
   "source": [
    "# BuildIn Tool"
   ]
  },
  {
   "cell_type": "markdown",
   "id": "fb0b078c",
   "metadata": {},
   "source": [
    "### DuckDuckGo"
   ]
  },
  {
   "cell_type": "code",
   "execution_count": 3,
   "id": "570aa4d2",
   "metadata": {},
   "outputs": [
    {
     "name": "stdout",
     "output_type": "stream",
     "text": [
      "India News | Latest India News | Read latest and breaking news from India. Today's top India news headlines, news on Indian politics, elections, government, business, technology, and Bollywood. India News, Latest News India: Read Live Breaking News from India along with Latest News and Today's Top Headlines Online in Bharat. Stay Up-to-date with Top news in India, current headlines, photos & videos online, live coverage on entertainment, business, politics, sports, technology and more at indianexpress.com. Bitter Bite: Chhattisgarh Naxal Operation. India Today covers a major operation in Chhattisgarh, neutralising 30 Naxals, including top commander Basavaraju with a 1-crore bounty.Who was he? India Today profiles the face of Naxals. Legal Platter: Courtroom Battles. India Today tracks the Supreme Court hearing the Waqf Amendment Act case Thursday, with the Centre arguing Waqf isn't essential ... Get updated with current top news stories from India and the world only on Zee News. Zee News brings latest news from India and World on breaking news, today news headlines, politics, business, technology, bollywood, entertainment, sports and others. Find exclusive news stories on Indian politics, current affairs, cricket matches, festivals and ... Read the top news today on May 21, 2025 ... petitioners tell SC, countering presumption of constitutionality ... News India News Entertainment news Science News Sports, IPL 2025 News ...\n"
     ]
    }
   ],
   "source": [
    "from langchain.tools import DuckDuckGoSearchRun\n",
    "search_tool = DuckDuckGoSearchRun()\n",
    "result = search_tool.invoke(\"tell top news in india today\")\n",
    "print(result)"
   ]
  },
  {
   "cell_type": "code",
   "execution_count": 4,
   "id": "496443f4",
   "metadata": {},
   "outputs": [
    {
     "name": "stdout",
     "output_type": "stream",
     "text": [
      "duckduckgo_search\n",
      "A wrapper around DuckDuckGo Search. Useful for when you need to answer questions about current events. Input should be a search query.\n",
      "{'query': {'description': 'search query to look up', 'title': 'Query', 'type': 'string'}}\n"
     ]
    }
   ],
   "source": [
    "print(search_tool.name)\n",
    "print(search_tool.description) #  Prints the description attribute of the search_tool object.\n",
    "print(search_tool.args)"
   ]
  },
  {
   "cell_type": "markdown",
   "id": "b8668cce",
   "metadata": {},
   "source": [
    "### BuildIn Shell Tool"
   ]
  },
  {
   "cell_type": "code",
   "execution_count": 5,
   "id": "a17dcd54",
   "metadata": {},
   "outputs": [
    {
     "name": "stdout",
     "output_type": "stream",
     "text": [
      "Executing command:\n",
      " cd\n",
      "c:\\Users\\shubu\\Desktop\\GenAI\\14.Tools\n",
      "\n"
     ]
    },
    {
     "name": "stderr",
     "output_type": "stream",
     "text": [
      "c:\\Users\\shubu\\Desktop\\GenAI\\venv\\lib\\site-packages\\langchain_community\\tools\\shell\\tool.py:33: UserWarning: The shell tool has no safeguards by default. Use at your own risk.\n",
      "  warnings.warn(\n"
     ]
    }
   ],
   "source": [
    "from langchain_community.tools import ShellTool\n",
    "\n",
    "shell_tool = ShellTool()\n",
    "\n",
    "results = shell_tool.invoke('cd')\n",
    "\n",
    "print(results)"
   ]
  },
  {
   "cell_type": "markdown",
   "id": "8be885b4",
   "metadata": {},
   "source": [
    "# Custom Tools"
   ]
  },
  {
   "cell_type": "markdown",
   "id": "789d5b41",
   "metadata": {},
   "source": [
    "### Method 1 - Using @tool Decorator"
   ]
  },
  {
   "cell_type": "code",
   "execution_count": 6,
   "id": "0cf51757",
   "metadata": {},
   "outputs": [],
   "source": [
    "from langchain_core.tools import tool"
   ]
  },
  {
   "cell_type": "code",
   "execution_count": 7,
   "id": "624424c1",
   "metadata": {},
   "outputs": [],
   "source": [
    "# step 1 - create a function\n",
    "def mul(a,b):\n",
    "    '''mulitply two numbers''' # make sure to add doc. string for llm \n",
    "    return a*b"
   ]
  },
  {
   "cell_type": "code",
   "execution_count": 8,
   "id": "ab6df3b0",
   "metadata": {},
   "outputs": [],
   "source": [
    "# step 2 - and type hints(not important but recommended)\n",
    "def mul(a:int, b:int) -> int:\n",
    "    '''mulitply two numbers'''\n",
    "    return a*b\n"
   ]
  },
  {
   "cell_type": "code",
   "execution_count": 9,
   "id": "59efbf8b",
   "metadata": {},
   "outputs": [],
   "source": [
    "# step 3 - add tool decorator\n",
    "\n",
    "@tool #this funtion make it a special function to communicate with LLM\n",
    "def mul(a:int, b:int) -> int:\n",
    "    '''mulitply two numbers'''\n",
    "    return a*b"
   ]
  },
  {
   "cell_type": "code",
   "execution_count": 10,
   "id": "f20e7a96",
   "metadata": {},
   "outputs": [
    {
     "name": "stdout",
     "output_type": "stream",
     "text": [
      "40\n"
     ]
    }
   ],
   "source": [
    "result = mul.invoke({\"a\":5, \"b\":8})\n",
    "print(result)"
   ]
  },
  {
   "cell_type": "code",
   "execution_count": 11,
   "id": "f6f675d5",
   "metadata": {},
   "outputs": [
    {
     "name": "stdout",
     "output_type": "stream",
     "text": [
      "mul\n",
      "mulitply two numbers\n",
      "{'a': {'title': 'A', 'type': 'integer'}, 'b': {'title': 'B', 'type': 'integer'}}\n"
     ]
    }
   ],
   "source": [
    "print(mul.name)\n",
    "print(mul.description)\n",
    "print(mul.args)"
   ]
  },
  {
   "cell_type": "code",
   "execution_count": 12,
   "id": "d6277223",
   "metadata": {},
   "outputs": [
    {
     "name": "stdout",
     "output_type": "stream",
     "text": [
      "{'description': 'mulitply two numbers', 'properties': {'a': {'title': 'A', 'type': 'integer'}, 'b': {'title': 'B', 'type': 'integer'}}, 'required': ['a', 'b'], 'title': 'mul', 'type': 'object'}\n"
     ]
    }
   ],
   "source": [
    "print(mul.args_schema.model_json_schema()) #tool given to llm but what does llm sees \n",
    "# paste in json formatter we send schema of tool to llm"
   ]
  },
  {
   "cell_type": "markdown",
   "id": "7ce73427",
   "metadata": {},
   "source": [
    "### Method 2 - Using Structured Tool"
   ]
  },
  {
   "cell_type": "code",
   "execution_count": 13,
   "id": "1ee6cd40",
   "metadata": {},
   "outputs": [],
   "source": [
    "from langchain.tools import StructuredTool\n",
    "from pydantic import Field, BaseModel"
   ]
  },
  {
   "cell_type": "code",
   "execution_count": 14,
   "id": "1c927d96",
   "metadata": {},
   "outputs": [],
   "source": [
    "# pydantic model \n",
    "class MultiplyInput(BaseModel):\n",
    "    a: int = Field(required = True, description=\"The first number to multiply\")\n",
    "    b: int = Field(required = True, description=\"The second number to multiply\")"
   ]
  },
  {
   "cell_type": "code",
   "execution_count": 15,
   "id": "40c58851",
   "metadata": {},
   "outputs": [],
   "source": [
    "# function\n",
    "def mul(a:int , b:int) -> int:\n",
    "    return a*b"
   ]
  },
  {
   "cell_type": "code",
   "execution_count": 16,
   "id": "ca5145e6",
   "metadata": {},
   "outputs": [],
   "source": [
    "multiply_tool = StructuredTool.from_function(\n",
    "    func = mul, # function\n",
    "    name=\"multiply\", # give a name \n",
    "    description=\"multiply two numbers\", # give a description\n",
    "    args_schema=MultiplyInput # sending our argument schema\n",
    ")"
   ]
  },
  {
   "cell_type": "code",
   "execution_count": 17,
   "id": "25dc64fb",
   "metadata": {},
   "outputs": [
    {
     "name": "stdout",
     "output_type": "stream",
     "text": [
      "40\n",
      "multiply\n",
      "multiply two numbers\n",
      "{'a': {'description': 'The first number to multiply', 'required': True, 'title': 'A', 'type': 'integer'}, 'b': {'description': 'The second number to multiply', 'required': True, 'title': 'B', 'type': 'integer'}}\n"
     ]
    }
   ],
   "source": [
    "result = multiply_tool.invoke({\"a\":5, \"b\":8})\n",
    "print(result)\n",
    "print(multiply_tool.name)\n",
    "print(multiply_tool.description)\n",
    "print(multiply_tool.args)"
   ]
  },
  {
   "cell_type": "markdown",
   "id": "0b59007d",
   "metadata": {},
   "source": [
    "### Method 3 - Base Tool"
   ]
  },
  {
   "cell_type": "code",
   "execution_count": 18,
   "id": "ce4b6270",
   "metadata": {},
   "outputs": [],
   "source": [
    "from langchain.tools import BaseTool\n",
    "from typing import Type"
   ]
  },
  {
   "cell_type": "code",
   "execution_count": 19,
   "id": "35e51505",
   "metadata": {},
   "outputs": [],
   "source": [
    "#arg schema using pydantic\n",
    "class MultiplyInput(BaseModel):\n",
    "    a: int = Field(required = True, description=\"The first number to multiply\")\n",
    "    b: int = Field(required = True, description=\"The second number to multiply\")"
   ]
  },
  {
   "cell_type": "code",
   "execution_count": null,
   "id": "1f72f3fb",
   "metadata": {},
   "outputs": [],
   "source": [
    "class MultiplyTool(BaseTool): # MultiplyTool class is the child of base tool class\n",
    "    name : str = \"multiply\" # we can make our attribute\n",
    "    description: str = \"multiply two numbers\"\n",
    "    args_schema: Type[BaseModel] = MultiplyInput\n",
    "\n",
    "    def _run(self, a:int, b:int) -> int:\n",
    "        # synchronous implementation: runs like normal python, use when you don't need to wait for anything\n",
    "        return a*b\n",
    "    \n"
   ]
  },
  {
   "cell_type": "code",
   "execution_count": 21,
   "id": "e456320e",
   "metadata": {},
   "outputs": [],
   "source": [
    "multiply_tool1 = MultiplyTool()"
   ]
  },
  {
   "cell_type": "code",
   "execution_count": 22,
   "id": "0c2eb7b2",
   "metadata": {},
   "outputs": [
    {
     "name": "stdout",
     "output_type": "stream",
     "text": [
      "6\n"
     ]
    }
   ],
   "source": [
    "\n",
    "result = multiply_tool1.invoke({\"a\":3, \"b\":2})\n",
    "print(result)"
   ]
  }
 ],
 "metadata": {
  "kernelspec": {
   "display_name": "venv",
   "language": "python",
   "name": "python3"
  },
  "language_info": {
   "codemirror_mode": {
    "name": "ipython",
    "version": 3
   },
   "file_extension": ".py",
   "mimetype": "text/x-python",
   "name": "python",
   "nbconvert_exporter": "python",
   "pygments_lexer": "ipython3",
   "version": "3.10.9"
  }
 },
 "nbformat": 4,
 "nbformat_minor": 5
}
