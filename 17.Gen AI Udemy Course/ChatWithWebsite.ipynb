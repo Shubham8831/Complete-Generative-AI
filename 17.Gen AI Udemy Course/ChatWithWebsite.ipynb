{
 "cells": [
  {
   "cell_type": "markdown",
   "id": "9e7c4b76",
   "metadata": {},
   "source": []
  },
  {
   "cell_type": "code",
   "execution_count": null,
   "id": "fb4af0d7",
   "metadata": {},
   "outputs": [],
   "source": [
    "import os\n",
    "from dotenv import load_dotenv\n",
    "load_dotenv()\n",
    "\n",
    "os.environ['OPENAI_API_KEY'] = os.getenv(\"OPENAI_API_KEY\")\n",
    "\n",
    "#Langsmith tracking\n",
    "os.environ['LANGCHAIN_API_KEY'] = os.getenv(\"LANGCHAIN_API_KEY\")\n",
    "#It sets up your Langchain API key so the app can connect and work properly.\n",
    "\n",
    "os.environ['LANGCHAIN_TRACKING_V2'] = \"True\" #This line enables tracking (version 2) for Langchain.\n",
    "#It means you want to track how your app is using Langchain—helpful for debugging or analytics.\n",
    "\n",
    "os.environ['LANGCHAIN_PROJECT'] = os.getenv(\"LANGSMITH_PROJECT\") #This sets the project name you are working on in Langchain.\n",
    "#It helps organize your work, especially if you're working on multiple AI projects.\n"
   ]
  }
 ],
 "metadata": {
  "kernelspec": {
   "display_name": "venv",
   "language": "python",
   "name": "python3"
  },
  "language_info": {
   "codemirror_mode": {
    "name": "ipython",
    "version": 3
   },
   "file_extension": ".py",
   "mimetype": "text/x-python",
   "name": "python",
   "nbconvert_exporter": "python",
   "pygments_lexer": "ipython3",
   "version": "3.10.9"
  }
 },
 "nbformat": 4,
 "nbformat_minor": 5
}
